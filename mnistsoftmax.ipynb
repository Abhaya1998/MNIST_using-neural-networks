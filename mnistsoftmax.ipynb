{
 "cells": [
  {
   "cell_type": "markdown",
   "metadata": {},
   "source": [
    "#Importing all the libraries"
   ]
  },
  {
   "cell_type": "code",
   "execution_count": null,
   "metadata": {},
   "outputs": [],
   "source": [
    "import tensorflow as tf\n",
    "import matplotlib.pyplot as plt\n",
    "import numpy as np\n",
    "from tensorflow.examples.tutorials.mnist import input_data"
   ]
  },
  {
   "cell_type": "markdown",
   "metadata": {},
   "source": [
    "#Importing data\n",
    "Mnist contains 28*28 pixels image\n",
    "with output of 10 classes(0-9)\n",
    "one_hot converts the output to a single value hot key\n",
    "eg:- for 4 output will be [0 0 0 0 1 0 0 0 0 0]"
   ]
  },
  {
   "cell_type": "code",
   "execution_count": null,
   "metadata": {},
   "outputs": [],
   "source": [
    "mnist=input_data.read_data_sets('/temp/data',one_hot=True)"
   ]
  },
  {
   "cell_type": "markdown",
   "metadata": {},
   "source": [
    "#Creating a function to create layers in neural network\n",
    "Each layer takes input from previous layer and produces output to next layer\n",
    "activation function is used to learn and make sense of the non-linear input data"
   ]
  },
  {
   "cell_type": "code",
   "execution_count": null,
   "metadata": {},
   "outputs": [],
   "source": [
    "def add_layer(inputs,in_size,out_size,activation=None):\n",
    "    weight=tf.Variable(tf.random_normal([in_size,out_size]))\n",
    "    bias=tf.Variable(tf.zeros([1,out_size])+0.1)\n",
    "    lm=tf.matmul(inputs,weight)+bias\n",
    "    if activation is None:\n",
    "        output=lm\n",
    "    else:\n",
    "        output=activation(lm)\n",
    "    return output"
   ]
  },
  {
   "cell_type": "markdown",
   "metadata": {},
   "source": [
    "#Optimizer is used"
   ]
  },
  {
   "cell_type": "code",
   "execution_count": null,
   "metadata": {},
   "outputs": [],
   "source": [
    "xs=tf.placeholder(tf.float32,[None,784])\n",
    "ys=tf.placeholder(tf.float32,[None,10])\n",
    "\n",
    "output=add_layer(xs,784,10,tf.nn.softmax)\n",
    "loss=tf.reduce_mean(-tf.reduce_sum(ys*tf.log(output),axis=1))\n",
    "train=tf.train.GradientDescentOptimizer(0.5).minimize(loss)"
   ]
  },
  {
   "cell_type": "markdown",
   "metadata": {},
   "source": [
    "#Session is initialised"
   ]
  },
  {
   "cell_type": "code",
   "execution_count": null,
   "metadata": {},
   "outputs": [],
   "source": [
    "sess=tf.InteractiveSession()\n",
    "init=tf.global_variables_initializer()\n",
    "sess.run(init)"
   ]
  },
  {
   "cell_type": "markdown",
   "metadata": {},
   "source": [
    "#Finally model is trained"
   ]
  },
  {
   "cell_type": "code",
   "execution_count": null,
   "metadata": {},
   "outputs": [],
   "source": [
    "def accuracy_find(xs1,ys1):\n",
    "    #outputs=sess.run(output,feed_dict={xs:xs1,ys:ys1})\n",
    "    correct_prediction=tf.equal(tf.argmax(output,1),tf.argmax(ys1,1))\n",
    "    accuracy=tf.reduce_mean(tf.cast(correct_prediction,tf.float32))\n",
    "    print(sess.run(accuracy,feed_dict={xs:xs1,ys:ys1}))\n",
    "    \n",
    "for i in range(1000):\n",
    "    batchx,batchy=mnist.train.next_batch(100)\n",
    "    sess.run(train,feed_dict={xs:batchx,ys:batchy})\n",
    "    if(i%50==0):\n",
    "       accuracy_find(mnist.test.images,mnist.test.labels)\n",
    "#accuracy_find(mnist.train.images,mnist.train.labels)\n",
    "# sess.run(train,feed_dict={xs:mnist.train.images,ys:mnist.train.labels})\n",
    "# accuracy_find(mnist.test.images,mnist.test.labels)\n"
   ]
  },
  {
   "cell_type": "markdown",
   "metadata": {},
   "source": [
    "#So we can see the accuracy on test set gradually increases with trainning of next batches of train datas"
   ]
  },
  {
   "cell_type": "code",
   "execution_count": null,
   "metadata": {},
   "outputs": [],
   "source": []
  },
  {
   "cell_type": "code",
   "execution_count": null,
   "metadata": {},
   "outputs": [],
   "source": []
  }
 ],
 "metadata": {
  "kernelspec": {
   "display_name": "Python 3",
   "language": "python",
   "name": "python3"
  },
  "language_info": {
   "codemirror_mode": {
    "name": "ipython",
    "version": 3
   },
   "file_extension": ".py",
   "mimetype": "text/x-python",
   "name": "python",
   "nbconvert_exporter": "python",
   "pygments_lexer": "ipython3",
   "version": "3.5.5"
  }
 },
 "nbformat": 4,
 "nbformat_minor": 2
}
